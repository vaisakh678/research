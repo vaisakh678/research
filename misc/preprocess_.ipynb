{
 "cells": [
  {
   "cell_type": "code",
   "execution_count": null,
   "metadata": {},
   "outputs": [],
   "source": [
    "import mediapipe as mp\n",
    "import cv2\n",
    "import os\n",
    "from os.path import join, isdir\n",
    "import pandas as pd\n",
    "import numpy as np\n",
    "from IPython.display import clear_output "
   ]
  },
  {
   "cell_type": "code",
   "execution_count": null,
   "metadata": {},
   "outputs": [],
   "source": [
    "# https://www.kaggle.com/datasets/kapillondhe/american-sign-language\n",
    "\n",
    "\n",
    "ROOT = \"/Users/vaisakh/Desktop/last-research/ASL_Dataset/ASL_Train\"\n",
    "EXT = \".jpg\"\n",
    "CSV_PATH = \"/Users/vaisakh/research_final_codebase/dataset.csv\""
   ]
  },
  {
   "cell_type": "code",
   "execution_count": null,
   "metadata": {},
   "outputs": [],
   "source": [
    "img_paths = []\n",
    "for label in os.listdir(ROOT):\n",
    "    if not isdir(join(ROOT, label)): continue;\n",
    "    for image in os.listdir(join(ROOT, label)):\n",
    "        img_path = join(ROOT, label, image)\n",
    "        if not img_path.endswith(EXT): continue\n",
    "        img_paths.append([label, img_path])"
   ]
  },
  {
   "cell_type": "code",
   "execution_count": null,
   "metadata": {},
   "outputs": [],
   "source": [
    "len(img_paths)"
   ]
  },
  {
   "cell_type": "code",
   "execution_count": null,
   "metadata": {},
   "outputs": [],
   "source": [
    "cols = [\n",
    "    '0x', '0y', '1x', '1y', '2x', '2y', '3x', '3y', \n",
    "    '4x', '4y', '5x', '5y', '6x', '6y', '7x', '7y', \n",
    "    '8x', '8y', '9x', '9y', '10x', '10y', '11x', '11y', \n",
    "    '12x', '12y', '13x', '13y', '14x', '14y', '15x', \n",
    "    '15y', '16x', '16y', '17x', '17y', '18x', '18y', \n",
    "    '19x', '19y', '20x', '20y', 'label']\n",
    "\n",
    "df = pd.DataFrame(columns=cols)"
   ]
  },
  {
   "cell_type": "code",
   "execution_count": null,
   "metadata": {},
   "outputs": [],
   "source": [
    "def pre_process(landmark):\n",
    "    processed_landmarks = []\n",
    "    relative_landmarks= []\n",
    "    for i in landmark[0].landmark:\n",
    "        processed_landmarks.append([i.x, i.y])\n",
    "\n",
    "    for i in processed_landmarks:\n",
    "        relative_landmarks.append([\n",
    "            i[0]-processed_landmarks[0][0],\n",
    "            i[1]-processed_landmarks[0][1],\n",
    "        ])\n",
    "    \n",
    "    flatten = []\n",
    "    for i in relative_landmarks:\n",
    "        flatten.append(i[0])\n",
    "        flatten.append(i[1])\n",
    "    \n",
    "    maxVal = max(list(map(abs, flatten)))\n",
    "    def norm(n): return n/maxVal\n",
    "    normalised = list(map(norm, flatten))\n",
    "\n",
    "    return normalised"
   ]
  },
  {
   "cell_type": "code",
   "execution_count": 74,
   "metadata": {},
   "outputs": [
    {
     "name": "stdout",
     "output_type": "stream",
     "text": [
      "100 /Users/vaisakh/Desktop/last-research/ASL_Dataset/ASL_Train/R/1446.jpg\n"
     ]
    },
    {
     "name": "stderr",
     "output_type": "stream",
     "text": [
      "/Users/vaisakh/miniforge3/lib/python3.10/site-packages/google/protobuf/symbol_database.py:78: UserWarning: SymbolDatabase.GetPrototype() is deprecated. Please use message_factory.GetMessageClass() instead. SymbolDatabase.GetPrototype() will be removed soon.\n",
      "  warnings.warn('SymbolDatabase.GetPrototype() is deprecated. Please '\n"
     ]
    }
   ],
   "source": [
    "mp_drawing = mp.solutions.drawing_utils\n",
    "mp_hands = mp.solutions.hands\n",
    "hands = mp_hands.Hands(min_detection_confidence=0.8, min_tracking_confidence=0.5) \n",
    "count= 0\n",
    "corrupted_files = []\n",
    "\n",
    "for label, image_path in img_paths[:100]:\n",
    "    count+=1\n",
    "    clear_output()\n",
    "    print(count, img)\n",
    "\n",
    "    image = cv2.imread(image_path)\n",
    "    try:\n",
    "        image = cv2.cvtColor(image, cv2.COLOR_BGR2RGB)\n",
    "        result = hands.process(image)\n",
    "        if not result.multi_hand_landmarks: continue\n",
    "\n",
    "        image = cv2.cvtColor(image, cv2.COLOR_RGB2BGR)\n",
    "        for hand in result.multi_hand_landmarks:\n",
    "            mp_drawing.draw_landmarks(image, hand, mp_hands.HAND_CONNECTIONS, \n",
    "                            mp_drawing.DrawingSpec(color=(121, 22, 76), thickness=2, circle_radius=4),\n",
    "                            mp_drawing.DrawingSpec(color=(250, 44, 250), thickness=2, circle_radius=2),)\n",
    "        cv2.imshow(\"wind\", image)\n",
    "        cv2.waitKey(0)\n",
    "\n",
    "        preprocessed = pre_process(result.multi_hand_landmarks)\n",
    "        preprocessed.append(label)\n",
    "        df.loc[len(df)] = preprocessed\n",
    "    except:\n",
    "        corrupted_files.append(image_path)\n",
    "        print(\"corrupted:\", image_path)\n",
    "\n",
    "    \n",
    "\n",
    "    \n",
    "cv2.destroyAllWindows()"
   ]
  },
  {
   "cell_type": "code",
   "execution_count": 75,
   "metadata": {},
   "outputs": [
    {
     "data": {
      "text/html": [
       "<div>\n",
       "<style scoped>\n",
       "    .dataframe tbody tr th:only-of-type {\n",
       "        vertical-align: middle;\n",
       "    }\n",
       "\n",
       "    .dataframe tbody tr th {\n",
       "        vertical-align: top;\n",
       "    }\n",
       "\n",
       "    .dataframe thead th {\n",
       "        text-align: right;\n",
       "    }\n",
       "</style>\n",
       "<table border=\"1\" class=\"dataframe\">\n",
       "  <thead>\n",
       "    <tr style=\"text-align: right;\">\n",
       "      <th></th>\n",
       "      <th>0x</th>\n",
       "      <th>0y</th>\n",
       "      <th>1x</th>\n",
       "      <th>1y</th>\n",
       "      <th>2x</th>\n",
       "      <th>2y</th>\n",
       "      <th>3x</th>\n",
       "      <th>3y</th>\n",
       "      <th>4x</th>\n",
       "      <th>4y</th>\n",
       "      <th>...</th>\n",
       "      <th>16y</th>\n",
       "      <th>17x</th>\n",
       "      <th>17y</th>\n",
       "      <th>18x</th>\n",
       "      <th>18y</th>\n",
       "      <th>19x</th>\n",
       "      <th>19y</th>\n",
       "      <th>20x</th>\n",
       "      <th>20y</th>\n",
       "      <th>label</th>\n",
       "    </tr>\n",
       "  </thead>\n",
       "  <tbody>\n",
       "    <tr>\n",
       "      <th>0</th>\n",
       "      <td>0.0</td>\n",
       "      <td>0.0</td>\n",
       "      <td>-0.137939</td>\n",
       "      <td>-0.102408</td>\n",
       "      <td>-0.210286</td>\n",
       "      <td>-0.290843</td>\n",
       "      <td>-0.136485</td>\n",
       "      <td>-0.442677</td>\n",
       "      <td>-0.012725</td>\n",
       "      <td>-0.526258</td>\n",
       "      <td>...</td>\n",
       "      <td>-0.329419</td>\n",
       "      <td>0.175385</td>\n",
       "      <td>-0.360373</td>\n",
       "      <td>0.113739</td>\n",
       "      <td>-0.445154</td>\n",
       "      <td>0.046301</td>\n",
       "      <td>-0.335742</td>\n",
       "      <td>0.014966</td>\n",
       "      <td>-0.240969</td>\n",
       "      <td>R</td>\n",
       "    </tr>\n",
       "    <tr>\n",
       "      <th>1</th>\n",
       "      <td>0.0</td>\n",
       "      <td>0.0</td>\n",
       "      <td>-0.137939</td>\n",
       "      <td>-0.102408</td>\n",
       "      <td>-0.210286</td>\n",
       "      <td>-0.290843</td>\n",
       "      <td>-0.136485</td>\n",
       "      <td>-0.442677</td>\n",
       "      <td>-0.012725</td>\n",
       "      <td>-0.526258</td>\n",
       "      <td>...</td>\n",
       "      <td>-0.329419</td>\n",
       "      <td>0.175385</td>\n",
       "      <td>-0.360373</td>\n",
       "      <td>0.113739</td>\n",
       "      <td>-0.445154</td>\n",
       "      <td>0.046301</td>\n",
       "      <td>-0.335742</td>\n",
       "      <td>0.014966</td>\n",
       "      <td>-0.240969</td>\n",
       "      <td>R</td>\n",
       "    </tr>\n",
       "    <tr>\n",
       "      <th>2</th>\n",
       "      <td>0.0</td>\n",
       "      <td>0.0</td>\n",
       "      <td>-0.145031</td>\n",
       "      <td>-0.104455</td>\n",
       "      <td>-0.217983</td>\n",
       "      <td>-0.292274</td>\n",
       "      <td>-0.141535</td>\n",
       "      <td>-0.448530</td>\n",
       "      <td>-0.016454</td>\n",
       "      <td>-0.531183</td>\n",
       "      <td>...</td>\n",
       "      <td>-0.323900</td>\n",
       "      <td>0.172319</td>\n",
       "      <td>-0.365221</td>\n",
       "      <td>0.118423</td>\n",
       "      <td>-0.452070</td>\n",
       "      <td>0.046924</td>\n",
       "      <td>-0.347243</td>\n",
       "      <td>0.001998</td>\n",
       "      <td>-0.252909</td>\n",
       "      <td>R</td>\n",
       "    </tr>\n",
       "    <tr>\n",
       "      <th>3</th>\n",
       "      <td>0.0</td>\n",
       "      <td>0.0</td>\n",
       "      <td>-0.136677</td>\n",
       "      <td>-0.163675</td>\n",
       "      <td>-0.182776</td>\n",
       "      <td>-0.361404</td>\n",
       "      <td>-0.095506</td>\n",
       "      <td>-0.515515</td>\n",
       "      <td>0.029945</td>\n",
       "      <td>-0.599974</td>\n",
       "      <td>...</td>\n",
       "      <td>-0.393487</td>\n",
       "      <td>0.098828</td>\n",
       "      <td>-0.450658</td>\n",
       "      <td>0.092487</td>\n",
       "      <td>-0.562930</td>\n",
       "      <td>0.070438</td>\n",
       "      <td>-0.509285</td>\n",
       "      <td>0.052513</td>\n",
       "      <td>-0.442569</td>\n",
       "      <td>U</td>\n",
       "    </tr>\n",
       "    <tr>\n",
       "      <th>4</th>\n",
       "      <td>0.0</td>\n",
       "      <td>0.0</td>\n",
       "      <td>-0.128625</td>\n",
       "      <td>-0.128503</td>\n",
       "      <td>-0.183046</td>\n",
       "      <td>-0.311779</td>\n",
       "      <td>-0.074872</td>\n",
       "      <td>-0.419089</td>\n",
       "      <td>0.055082</td>\n",
       "      <td>-0.430645</td>\n",
       "      <td>...</td>\n",
       "      <td>-0.384004</td>\n",
       "      <td>0.212421</td>\n",
       "      <td>-0.348918</td>\n",
       "      <td>0.149815</td>\n",
       "      <td>-0.425931</td>\n",
       "      <td>0.068590</td>\n",
       "      <td>-0.362978</td>\n",
       "      <td>0.031880</td>\n",
       "      <td>-0.300151</td>\n",
       "      <td>U</td>\n",
       "    </tr>\n",
       "  </tbody>\n",
       "</table>\n",
       "<p>5 rows × 43 columns</p>\n",
       "</div>"
      ],
      "text/plain": [
       "    0x   0y        1x        1y        2x        2y        3x        3y  \\\n",
       "0  0.0  0.0 -0.137939 -0.102408 -0.210286 -0.290843 -0.136485 -0.442677   \n",
       "1  0.0  0.0 -0.137939 -0.102408 -0.210286 -0.290843 -0.136485 -0.442677   \n",
       "2  0.0  0.0 -0.145031 -0.104455 -0.217983 -0.292274 -0.141535 -0.448530   \n",
       "3  0.0  0.0 -0.136677 -0.163675 -0.182776 -0.361404 -0.095506 -0.515515   \n",
       "4  0.0  0.0 -0.128625 -0.128503 -0.183046 -0.311779 -0.074872 -0.419089   \n",
       "\n",
       "         4x        4y  ...       16y       17x       17y       18x       18y  \\\n",
       "0 -0.012725 -0.526258  ... -0.329419  0.175385 -0.360373  0.113739 -0.445154   \n",
       "1 -0.012725 -0.526258  ... -0.329419  0.175385 -0.360373  0.113739 -0.445154   \n",
       "2 -0.016454 -0.531183  ... -0.323900  0.172319 -0.365221  0.118423 -0.452070   \n",
       "3  0.029945 -0.599974  ... -0.393487  0.098828 -0.450658  0.092487 -0.562930   \n",
       "4  0.055082 -0.430645  ... -0.384004  0.212421 -0.348918  0.149815 -0.425931   \n",
       "\n",
       "        19x       19y       20x       20y  label  \n",
       "0  0.046301 -0.335742  0.014966 -0.240969      R  \n",
       "1  0.046301 -0.335742  0.014966 -0.240969      R  \n",
       "2  0.046924 -0.347243  0.001998 -0.252909      R  \n",
       "3  0.070438 -0.509285  0.052513 -0.442569      U  \n",
       "4  0.068590 -0.362978  0.031880 -0.300151      U  \n",
       "\n",
       "[5 rows x 43 columns]"
      ]
     },
     "execution_count": 75,
     "metadata": {},
     "output_type": "execute_result"
    }
   ],
   "source": [
    "df.head()"
   ]
  },
  {
   "cell_type": "code",
   "execution_count": 76,
   "metadata": {},
   "outputs": [
    {
     "data": {
      "text/plain": [
       "U    191\n",
       "R      5\n",
       "Name: label, dtype: int64"
      ]
     },
     "execution_count": 76,
     "metadata": {},
     "output_type": "execute_result"
    }
   ],
   "source": [
    "df.to_csv(CSV_PATH)\n",
    "df['label'].value_counts()"
   ]
  },
  {
   "cell_type": "code",
   "execution_count": 77,
   "metadata": {},
   "outputs": [
    {
     "name": "stdout",
     "output_type": "stream",
     "text": [
      "['/Users/vaisakh/Desktop/last-research/ASL_Dataset/ASL_Train/R/1446.jpg']\n"
     ]
    }
   ],
   "source": [
    "print(corrupted_files)"
   ]
  },
  {
   "cell_type": "code",
   "execution_count": null,
   "metadata": {},
   "outputs": [],
   "source": []
  }
 ],
 "metadata": {
  "kernelspec": {
   "display_name": "base",
   "language": "python",
   "name": "python3"
  },
  "language_info": {
   "codemirror_mode": {
    "name": "ipython",
    "version": 3
   },
   "file_extension": ".py",
   "mimetype": "text/x-python",
   "name": "python",
   "nbconvert_exporter": "python",
   "pygments_lexer": "ipython3",
   "version": "3.10.9"
  },
  "orig_nbformat": 4
 },
 "nbformat": 4,
 "nbformat_minor": 2
}
