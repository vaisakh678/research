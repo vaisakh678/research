{
 "cells": [
  {
   "cell_type": "code",
   "execution_count": 2,
   "metadata": {},
   "outputs": [
    {
     "name": "stderr",
     "output_type": "stream",
     "text": [
      "objc[6361]: Class CaptureDelegate is implemented in both /Users/vaisakh/miniforge3/lib/python3.10/site-packages/mediapipe/.dylibs/libopencv_videoio.3.4.16.dylib (0x104cd0860) and /Users/vaisakh/miniforge3/lib/python3.10/site-packages/cv2/cv2.abi3.so (0x2847765a0). One of the two will be used. Which one is undefined.\n",
      "objc[6361]: Class CVWindow is implemented in both /Users/vaisakh/miniforge3/lib/python3.10/site-packages/mediapipe/.dylibs/libopencv_highgui.3.4.16.dylib (0x102e10a68) and /Users/vaisakh/miniforge3/lib/python3.10/site-packages/cv2/cv2.abi3.so (0x2847765f0). One of the two will be used. Which one is undefined.\n",
      "objc[6361]: Class CVView is implemented in both /Users/vaisakh/miniforge3/lib/python3.10/site-packages/mediapipe/.dylibs/libopencv_highgui.3.4.16.dylib (0x102e10a90) and /Users/vaisakh/miniforge3/lib/python3.10/site-packages/cv2/cv2.abi3.so (0x284776618). One of the two will be used. Which one is undefined.\n",
      "objc[6361]: Class CVSlider is implemented in both /Users/vaisakh/miniforge3/lib/python3.10/site-packages/mediapipe/.dylibs/libopencv_highgui.3.4.16.dylib (0x102e10ab8) and /Users/vaisakh/miniforge3/lib/python3.10/site-packages/cv2/cv2.abi3.so (0x284776640). One of the two will be used. Which one is undefined.\n"
     ]
    }
   ],
   "source": [
    "import mediapipe as mp\n",
    "import cv2\n",
    "import pandas as pd\n",
    "import numpy as np\n",
    "from tensorflow.keras.models import load_model\n",
    "from sklearn.preprocessing import MinMaxScaler, StandardScaler\n",
    "from IPython.display import clear_output "
   ]
  },
  {
   "cell_type": "code",
   "execution_count": 3,
   "metadata": {},
   "outputs": [
    {
     "name": "stdout",
     "output_type": "stream",
     "text": [
      "Metal device set to: Apple M1\n",
      "\n",
      "systemMemory: 8.00 GB\n",
      "maxCacheSize: 2.67 GB\n",
      "\n"
     ]
    },
    {
     "name": "stderr",
     "output_type": "stream",
     "text": [
      "2023-03-28 16:49:18.318786: I tensorflow/core/common_runtime/pluggable_device/pluggable_device_factory.cc:306] Could not identify NUMA node of platform GPU ID 0, defaulting to 0. Your kernel may not have been built with NUMA support.\n",
      "2023-03-28 16:49:18.319287: I tensorflow/core/common_runtime/pluggable_device/pluggable_device_factory.cc:272] Created TensorFlow device (/job:localhost/replica:0/task:0/device:GPU:0 with 0 MB memory) -> physical PluggableDevice (device: 0, name: METAL, pci bus id: <undefined>)\n"
     ]
    }
   ],
   "source": [
    "model = load_model(\"/Users/vaisakh/research_final_codebase/mp_last_large_map\")"
   ]
  },
  {
   "cell_type": "code",
   "execution_count": 4,
   "metadata": {},
   "outputs": [],
   "source": [
    "def preprocess(landmark):\n",
    "    processed_landmarks = []\n",
    "    relative_landmarks= []\n",
    "    for i in landmark[0].landmark:\n",
    "        processed_landmarks.append([i.x, i.y])\n",
    "\n",
    "    for i in processed_landmarks:\n",
    "        relative_landmarks.append([\n",
    "            i[0]-processed_landmarks[0][0],\n",
    "            i[1]-processed_landmarks[0][1],\n",
    "        ])\n",
    "    \n",
    "    flatten = []\n",
    "    for i in relative_landmarks:\n",
    "        flatten.append(i[0])\n",
    "        flatten.append(i[1])\n",
    "    \n",
    "    maxVal = max(list(map(abs, flatten)))\n",
    "    def norm(n): return n/maxVal\n",
    "    normalised = list(map(norm, flatten))\n",
    "\n",
    "    return normalised"
   ]
  },
  {
   "cell_type": "code",
   "execution_count": 5,
   "metadata": {},
   "outputs": [],
   "source": [
    "encoding_maps = ['A', 'B', 'C', 'D', 'E', 'F', 'G', 'H', 'I', 'J', 'K', \n",
    "       'L', 'M', 'N', 'O', 'P', 'Q', 'R', 'S', 'Space', 'T', \n",
    "       'U', 'V', 'W', 'X', 'Y', 'Z']"
   ]
  },
  {
   "cell_type": "code",
   "execution_count": 6,
   "metadata": {},
   "outputs": [
    {
     "name": "stdout",
     "output_type": "stream",
     "text": [
      "res: O\n"
     ]
    }
   ],
   "source": [
    "mp_drawing = mp.solutions.drawing_utils\n",
    "mp_hands = mp.solutions.hands\n",
    "cap = cv2.VideoCapture(1)\n",
    "with mp_hands.Hands(min_detection_confidence=0.8, min_tracking_confidence=0.5) as hands: \n",
    "    while cap.isOpened():\n",
    "    # while True:\n",
    "        ret, frame = cap.read()\n",
    "        image = cv2.cvtColor(frame, cv2.COLOR_BGR2RGB)\n",
    "        image = cv2.flip(image, 1)\n",
    "        image.flags.writeable = False\n",
    "        results = hands.process(image)\n",
    "        image.flags.writeable = True\n",
    "        image = cv2.cvtColor(image, cv2.COLOR_RGB2BGR)\n",
    "        if results.multi_hand_landmarks:\n",
    "            for num, hand in enumerate(results.multi_hand_landmarks):\n",
    "                    mp_drawing.draw_landmarks(image, hand, mp_hands.HAND_CONNECTIONS, \n",
    "                                            mp_drawing.DrawingSpec(color=(121, 22, 76), thickness=2, circle_radius=4),\n",
    "                                            mp_drawing.DrawingSpec(color=(250, 44, 250), thickness=2, circle_radius=2),\n",
    "                                        )\n",
    "\n",
    "            res = preprocess(results.multi_hand_landmarks)\n",
    "            pred = model.predict([res])\n",
    "            clear_output()\n",
    "            print(\"res:\", encoding_maps[np.argmax(pred)])\n",
    "\n",
    "        cv2.imshow('Hand Tracking', image)\n",
    "        if cv2.waitKey(10) & 0xFF == ord('q'):\n",
    "            break\n",
    "\n",
    "cap.release()\n",
    "cv2.destroyAllWindows()"
   ]
  },
  {
   "cell_type": "code",
   "execution_count": null,
   "metadata": {},
   "outputs": [],
   "source": []
  },
  {
   "cell_type": "code",
   "execution_count": null,
   "metadata": {},
   "outputs": [],
   "source": []
  }
 ],
 "metadata": {
  "kernelspec": {
   "display_name": "base",
   "language": "python",
   "name": "python3"
  },
  "language_info": {
   "codemirror_mode": {
    "name": "ipython",
    "version": 3
   },
   "file_extension": ".py",
   "mimetype": "text/x-python",
   "name": "python",
   "nbconvert_exporter": "python",
   "pygments_lexer": "ipython3",
   "version": "3.10.9"
  },
  "orig_nbformat": 4
 },
 "nbformat": 4,
 "nbformat_minor": 2
}
