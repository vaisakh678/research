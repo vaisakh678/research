{
 "cells": [
  {
   "cell_type": "code",
   "execution_count": 1,
   "metadata": {},
   "outputs": [
    {
     "name": "stderr",
     "output_type": "stream",
     "text": [
      "objc[6286]: Class CaptureDelegate is implemented in both /Users/vaisakh/miniconda3/lib/python3.10/site-packages/mediapipe/.dylibs/libopencv_videoio.3.4.16.dylib (0x1080c8860) and /Users/vaisakh/miniconda3/lib/python3.10/site-packages/cv2/cv2.abi3.so (0x156fb25a0). One of the two will be used. Which one is undefined.\n",
      "objc[6286]: Class CVWindow is implemented in both /Users/vaisakh/miniconda3/lib/python3.10/site-packages/mediapipe/.dylibs/libopencv_highgui.3.4.16.dylib (0x103024a68) and /Users/vaisakh/miniconda3/lib/python3.10/site-packages/cv2/cv2.abi3.so (0x156fb25f0). One of the two will be used. Which one is undefined.\n",
      "objc[6286]: Class CVView is implemented in both /Users/vaisakh/miniconda3/lib/python3.10/site-packages/mediapipe/.dylibs/libopencv_highgui.3.4.16.dylib (0x103024a90) and /Users/vaisakh/miniconda3/lib/python3.10/site-packages/cv2/cv2.abi3.so (0x156fb2618). One of the two will be used. Which one is undefined.\n",
      "objc[6286]: Class CVSlider is implemented in both /Users/vaisakh/miniconda3/lib/python3.10/site-packages/mediapipe/.dylibs/libopencv_highgui.3.4.16.dylib (0x103024ab8) and /Users/vaisakh/miniconda3/lib/python3.10/site-packages/cv2/cv2.abi3.so (0x156fb2640). One of the two will be used. Which one is undefined.\n"
     ]
    }
   ],
   "source": [
    "import mediapipe as mp\n",
    "import cv2\n",
    "import pandas as pd\n",
    "import numpy as np\n",
    "from tensorflow.keras.models import load_model\n",
    "from IPython.display import clear_output "
   ]
  },
  {
   "cell_type": "code",
   "execution_count": 2,
   "metadata": {},
   "outputs": [
    {
     "name": "stdout",
     "output_type": "stream",
     "text": [
      "Metal device set to: Apple M1\n",
      "\n",
      "systemMemory: 8.00 GB\n",
      "maxCacheSize: 2.67 GB\n",
      "\n"
     ]
    },
    {
     "name": "stderr",
     "output_type": "stream",
     "text": [
      "WARNING:absl:At this time, the v2.11+ optimizer `tf.keras.optimizers.RestoredOptimizer` runs slowly on M1/M2 Macs, please use the legacy Keras optimizer instead, located at `tf.keras.optimizers.legacy.RestoredOptimizer`.\n",
      "WARNING:absl:At this time, the v2.11+ optimizer `tf.keras.optimizers.Adam` runs slowly on M1/M2 Macs, please use the legacy Keras optimizer instead, located at `tf.keras.optimizers.legacy.Adam`.\n",
      "WARNING:absl:There is a known slowdown when using v2.11+ Keras optimizers on M1/M2 Macs. Falling back to the legacy Keras optimizer, i.e., `tf.keras.optimizers.legacy.Adam`.\n"
     ]
    }
   ],
   "source": [
    "model = load_model(\"mp_last_large_map_final\")"
   ]
  },
  {
   "cell_type": "code",
   "execution_count": 3,
   "metadata": {},
   "outputs": [],
   "source": [
    "def preprocess(landmark):\n",
    "    processed_landmarks = []\n",
    "    relative_landmarks= []\n",
    "    for i in landmark[0].landmark:\n",
    "        processed_landmarks.append([i.x, i.y])\n",
    "\n",
    "    for i in processed_landmarks:\n",
    "        relative_landmarks.append([\n",
    "            i[0]-processed_landmarks[0][0],\n",
    "            i[1]-processed_landmarks[0][1],\n",
    "        ])\n",
    "    \n",
    "    flatten = []\n",
    "    for i in relative_landmarks:\n",
    "        flatten.append(i[0])\n",
    "        flatten.append(i[1])\n",
    "    \n",
    "    maxVal = max(list(map(abs, flatten)))\n",
    "    def norm(n): return n/maxVal\n",
    "    normalised = list(map(norm, flatten))\n",
    "\n",
    "    return normalised"
   ]
  },
  {
   "cell_type": "code",
   "execution_count": 4,
   "metadata": {},
   "outputs": [],
   "source": [
    "encoding_maps = ['A', 'B', 'C', 'D', 'E', 'F', 'G', 'H', 'I', 'J', 'K', \n",
    "       'L', 'M', 'N', 'O', 'P', 'Q', 'R', 'S', 'Space', 'T', \n",
    "       'U', 'V', 'W', 'X', 'Y', 'Z']"
   ]
  },
  {
   "cell_type": "code",
   "execution_count": 9,
   "metadata": {},
   "outputs": [
    {
     "name": "stdout",
     "output_type": "stream",
     "text": [
      "prob:  [[4.22902360e-07 2.71369035e-22 1.02099499e-15 1.05216879e-36\n",
      "  1.43851951e-18 1.33305378e-12 1.37856425e-14 4.32008686e-29\n",
      "  2.41157090e-06 1.92227958e-08 4.10506412e-18 0.00000000e+00\n",
      "  5.70370140e-10 3.06359965e-10 1.04813775e-08 3.77274684e-23\n",
      "  1.27894873e-32 6.59774234e-26 8.88966625e-08 1.12610437e-07\n",
      "  5.36655443e-06 8.65611707e-24 2.53625745e-38 1.61195110e-25\n",
      "  6.98658145e-12 9.99991536e-01 3.20750574e-27]]\n",
      "res: Y max - prob: 0.99999154\n"
     ]
    },
    {
     "data": {
      "text/plain": [
       "-1"
      ]
     },
     "execution_count": 9,
     "metadata": {},
     "output_type": "execute_result"
    }
   ],
   "source": [
    "mp_drawing = mp.solutions.drawing_utils\n",
    "mp_hands = mp.solutions.hands\n",
    "cap = cv2.VideoCapture(1)\n",
    "with mp_hands.Hands(min_detection_confidence=0.8, min_tracking_confidence=0.5) as hands: \n",
    "    while cap.isOpened():\n",
    "    # while True:\n",
    "        ret, frame = cap.read()\n",
    "        image = cv2.cvtColor(frame, cv2.COLOR_BGR2RGB)\n",
    "        image = cv2.flip(image, 1)\n",
    "        image.flags.writeable = False\n",
    "        results = hands.process(image)\n",
    "        image.flags.writeable = True\n",
    "        image = cv2.cvtColor(image, cv2.COLOR_RGB2BGR)\n",
    "        if results.multi_hand_landmarks:\n",
    "            for num, hand in enumerate(results.multi_hand_landmarks):\n",
    "                    mp_drawing.draw_landmarks(image, hand, mp_hands.HAND_CONNECTIONS, \n",
    "                                            mp_drawing.DrawingSpec(color=(121, 22, 76), thickness=2, circle_radius=4),\n",
    "                                            mp_drawing.DrawingSpec(color=(250, 44, 250), thickness=2, circle_radius=2),\n",
    "                                        )\n",
    "\n",
    "            res = preprocess(results.multi_hand_landmarks)\n",
    "            prob = model.predict([res])\n",
    "            clear_output()\n",
    "            # print(\"prob: \", prob)\n",
    "            pred = np.argmax(prob)\n",
    "            maxi = prob[0][pred]\n",
    "            tresh = .90\n",
    "            sign = encoding_maps[pred]\n",
    "            print(\"res:\", sign, \"max - prob:\", maxi)\n",
    "            if maxi > tresh:\n",
    "                image = cv2.putText(image, sign, org=(50, 50), \n",
    "                                    fontFace=cv2.FONT_HERSHEY_SIMPLEX, \n",
    "                                    fontScale=1, color=(255,255,255), \n",
    "                                    thickness=2)\n",
    "\n",
    "        cv2.imshow('Hand Tracking', image)\n",
    "        if cv2.waitKey(10) & 0xFF == ord('q'):\n",
    "            break\n",
    "\n",
    "cap.release()\n",
    "cv2.waitKey(1)\n",
    "cv2.destroyAllWindows()\n",
    "cv2.waitKey(1)\n",
    "cv2.waitKey(1)\n",
    "cv2.waitKey(1)"
   ]
  },
  {
   "cell_type": "code",
   "execution_count": null,
   "metadata": {},
   "outputs": [],
   "source": []
  },
  {
   "cell_type": "code",
   "execution_count": null,
   "metadata": {},
   "outputs": [],
   "source": []
  }
 ],
 "metadata": {
  "kernelspec": {
   "display_name": "base",
   "language": "python",
   "name": "python3"
  },
  "language_info": {
   "codemirror_mode": {
    "name": "ipython",
    "version": 3
   },
   "file_extension": ".py",
   "mimetype": "text/x-python",
   "name": "python",
   "nbconvert_exporter": "python",
   "pygments_lexer": "ipython3",
   "version": "3.10.9"
  },
  "orig_nbformat": 4,
  "vscode": {
   "interpreter": {
    "hash": "e54217f9e10c9c2ab2c5acb791143dc555f80e81eec2f2e8946a5b329595e68c"
   }
  }
 },
 "nbformat": 4,
 "nbformat_minor": 2
}
