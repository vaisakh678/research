{
  "cells": [
    {
      "cell_type": "code",
      "execution_count": null,
      "metadata": {
        "id": "y2ROIwxPyxGi"
      },
      "outputs": [],
      "source": [
        "import mediapipe as mp\n",
        "import cv2\n",
        "import os\n",
        "from os.path import join, isdir\n",
        "import pandas as pd\n",
        "import numpy as np\n",
        "from IPython.display import clear_output "
      ]
    },
    {
      "cell_type": "code",
      "execution_count": null,
      "metadata": {
        "id": "2avPaY2HyxGk"
      },
      "outputs": [],
      "source": [
        "# https://www.kaggle.com/datasets/kapillondhe/american-sign-language\n",
        "\n",
        "\n",
        "ROOT = \"/Users/vaisakh/Desktop/last-research/ASL_Dataset/ASL_Train\"\n",
        "EXT = \".jpg\"\n",
        "CSV_PATH = \"/Users/vaisakh/research_final_codebase/dataset.csv\""
      ]
    },
    {
      "cell_type": "code",
      "execution_count": null,
      "metadata": {
        "id": "Kgvbg-fMyxGk"
      },
      "outputs": [],
      "source": [
        "img_paths = []\n",
        "for label in os.listdir(ROOT):\n",
        "    if not isdir(join(ROOT, label)): continue;\n",
        "    for image in os.listdir(join(ROOT, label)):\n",
        "        img_path = join(ROOT, label, image)\n",
        "        if not img_path.endswith(EXT): continue\n",
        "        img_paths.append([label, img_path])"
      ]
    },
    {
      "cell_type": "code",
      "execution_count": null,
      "metadata": {
        "id": "1LO__W28yxGk",
        "outputId": "1e8f089b-8e04-4ba2-a577-83c131ef0449"
      },
      "outputs": [
        {
          "data": {
            "text/plain": [
              "165670"
            ]
          },
          "execution_count": 4,
          "metadata": {},
          "output_type": "execute_result"
        }
      ],
      "source": [
        "len(img_paths)"
      ]
    },
    {
      "cell_type": "code",
      "execution_count": null,
      "metadata": {
        "id": "DwBJW4cTyxGl"
      },
      "outputs": [],
      "source": [
        "cols = [\n",
        "    '0x', '0y', '1x', '1y', '2x', '2y', '3x', '3y', \n",
        "    '4x', '4y', '5x', '5y', '6x', '6y', '7x', '7y', \n",
        "    '8x', '8y', '9x', '9y', '10x', '10y', '11x', '11y', \n",
        "    '12x', '12y', '13x', '13y', '14x', '14y', '15x', \n",
        "    '15y', '16x', '16y', '17x', '17y', '18x', '18y', \n",
        "    '19x', '19y', '20x', '20y', 'label']\n",
        "\n",
        "df = pd.DataFrame(columns=cols)"
      ]
    },
    {
      "cell_type": "code",
      "execution_count": null,
      "metadata": {
        "id": "798sr9-cyxGl"
      },
      "outputs": [],
      "source": [
        "def pre_process(landmark):\n",
        "    processed_landmarks = []\n",
        "    relative_landmarks= []\n",
        "    for i in landmark[0].landmark:\n",
        "        processed_landmarks.append([i.x, i.y])\n",
        "\n",
        "    for i in processed_landmarks:\n",
        "        relative_landmarks.append([\n",
        "            i[0]-processed_landmarks[0][0],\n",
        "            i[1]-processed_landmarks[0][1],\n",
        "        ])\n",
        "    \n",
        "    flatten = []\n",
        "    for i in relative_landmarks:\n",
        "        flatten.append(i[0])\n",
        "        flatten.append(i[1])\n",
        "    \n",
        "    maxVal = max(list(map(abs, flatten)))\n",
        "    def norm(n): return n/maxVal\n",
        "    normalised = list(map(norm, flatten))\n",
        "\n",
        "    return normalised"
      ]
    },
    {
      "cell_type": "code",
      "execution_count": null,
      "metadata": {
        "id": "MO9H4tnayxGl",
        "outputId": "fdc4a7a9-856f-447c-a1a7-7cd78aab05dd"
      },
      "outputs": [
        {
          "name": "stdout",
          "output_type": "stream",
          "text": [
            "165670 /home/amma/Downloads/archive/ASL_Dataset/Train/Z/Z2845.jpg\n"
          ]
        }
      ],
      "source": [
        "mp_drawing = mp.solutions.drawing_utils\n",
        "mp_hands = mp.solutions.hands\n",
        "hands = mp_hands.Hands(min_detection_confidence=0.8, min_tracking_confidence=0.5) \n",
        "count= 0\n",
        "corrupted_files = []\n",
        "\n",
        "for label, image_path in img_paths:\n",
        "    count+=1\n",
        "    clear_output()\n",
        "    print(count, image_path)\n",
        "\n",
        "    image = cv2.imread(image_path)\n",
        "    try:\n",
        "        image = cv2.cvtColor(image, cv2.COLOR_BGR2RGB)\n",
        "        result = hands.process(image)\n",
        "        if not result.multi_hand_landmarks: continue\n",
        "\n",
        "        # image = cv2.cvtColor(image, cv2.COLOR_RGB2BGR)\n",
        "        # for hand in result.multi_hand_landmarks:\n",
        "        #     mp_drawing.draw_landmarks(image, hand, mp_hands.HAND_CONNECTIONS, \n",
        "        #                     mp_drawing.DrawingSpec(color=(121, 22, 76), thickness=2, circle_radius=4),\n",
        "        #                     mp_drawing.DrawingSpec(color=(250, 44, 250), thickness=2, circle_radius=2),)\n",
        "        # cv2.imshow(\"wind\", image)\n",
        "        # cv2.waitKey(0)\n",
        "\n",
        "        preprocessed = pre_process(result.multi_hand_landmarks)\n",
        "        preprocessed.append(label)\n",
        "        df.loc[len(df)] = preprocessed\n",
        "    except:\n",
        "        corrupted_files.append(image_path)\n",
        "        print(\"corrupted:\", image_path)\n",
        "\n",
        "    \n",
        "\n",
        "    \n",
        "# cv2.destroyAllWindows()"
      ]
    },
    {
      "cell_type": "code",
      "execution_count": null,
      "metadata": {
        "id": "VwRmXN3TyxGm",
        "outputId": "c8ce67e2-7710-499a-990c-abf55c65e42d"
      },
      "outputs": [
        {
          "data": {
            "text/html": [
              "<div>\n",
              "<style scoped>\n",
              "    .dataframe tbody tr th:only-of-type {\n",
              "        vertical-align: middle;\n",
              "    }\n",
              "\n",
              "    .dataframe tbody tr th {\n",
              "        vertical-align: top;\n",
              "    }\n",
              "\n",
              "    .dataframe thead th {\n",
              "        text-align: right;\n",
              "    }\n",
              "</style>\n",
              "<table border=\"1\" class=\"dataframe\">\n",
              "  <thead>\n",
              "    <tr style=\"text-align: right;\">\n",
              "      <th></th>\n",
              "      <th>0x</th>\n",
              "      <th>0y</th>\n",
              "      <th>1x</th>\n",
              "      <th>1y</th>\n",
              "      <th>2x</th>\n",
              "      <th>2y</th>\n",
              "      <th>3x</th>\n",
              "      <th>3y</th>\n",
              "      <th>4x</th>\n",
              "      <th>4y</th>\n",
              "      <th>...</th>\n",
              "      <th>16y</th>\n",
              "      <th>17x</th>\n",
              "      <th>17y</th>\n",
              "      <th>18x</th>\n",
              "      <th>18y</th>\n",
              "      <th>19x</th>\n",
              "      <th>19y</th>\n",
              "      <th>20x</th>\n",
              "      <th>20y</th>\n",
              "      <th>label</th>\n",
              "    </tr>\n",
              "  </thead>\n",
              "  <tbody>\n",
              "    <tr>\n",
              "      <th>0</th>\n",
              "      <td>0.0</td>\n",
              "      <td>0.0</td>\n",
              "      <td>-0.263195</td>\n",
              "      <td>0.168084</td>\n",
              "      <td>-0.461619</td>\n",
              "      <td>0.238870</td>\n",
              "      <td>-0.545770</td>\n",
              "      <td>0.302678</td>\n",
              "      <td>-0.478784</td>\n",
              "      <td>0.437474</td>\n",
              "      <td>...</td>\n",
              "      <td>0.920620</td>\n",
              "      <td>0.421439</td>\n",
              "      <td>-0.428301</td>\n",
              "      <td>0.404070</td>\n",
              "      <td>0.039545</td>\n",
              "      <td>0.358000</td>\n",
              "      <td>0.382578</td>\n",
              "      <td>0.324619</td>\n",
              "      <td>0.636810</td>\n",
              "      <td>M</td>\n",
              "    </tr>\n",
              "    <tr>\n",
              "      <th>1</th>\n",
              "      <td>0.0</td>\n",
              "      <td>0.0</td>\n",
              "      <td>-0.263099</td>\n",
              "      <td>0.028681</td>\n",
              "      <td>-0.421139</td>\n",
              "      <td>0.147102</td>\n",
              "      <td>-0.402727</td>\n",
              "      <td>0.327252</td>\n",
              "      <td>-0.330016</td>\n",
              "      <td>0.455576</td>\n",
              "      <td>...</td>\n",
              "      <td>0.951374</td>\n",
              "      <td>0.363423</td>\n",
              "      <td>0.171764</td>\n",
              "      <td>0.366473</td>\n",
              "      <td>0.455060</td>\n",
              "      <td>0.327095</td>\n",
              "      <td>0.647811</td>\n",
              "      <td>0.283990</td>\n",
              "      <td>0.788677</td>\n",
              "      <td>M</td>\n",
              "    </tr>\n",
              "    <tr>\n",
              "      <th>2</th>\n",
              "      <td>0.0</td>\n",
              "      <td>0.0</td>\n",
              "      <td>-0.317940</td>\n",
              "      <td>-0.047910</td>\n",
              "      <td>-0.503678</td>\n",
              "      <td>-0.068887</td>\n",
              "      <td>-0.492297</td>\n",
              "      <td>0.091870</td>\n",
              "      <td>-0.366191</td>\n",
              "      <td>0.284903</td>\n",
              "      <td>...</td>\n",
              "      <td>0.946927</td>\n",
              "      <td>0.469347</td>\n",
              "      <td>-0.137859</td>\n",
              "      <td>0.490483</td>\n",
              "      <td>0.247974</td>\n",
              "      <td>0.477984</td>\n",
              "      <td>0.517449</td>\n",
              "      <td>0.466153</td>\n",
              "      <td>0.725181</td>\n",
              "      <td>M</td>\n",
              "    </tr>\n",
              "    <tr>\n",
              "      <th>3</th>\n",
              "      <td>0.0</td>\n",
              "      <td>0.0</td>\n",
              "      <td>-0.316733</td>\n",
              "      <td>0.100902</td>\n",
              "      <td>-0.559333</td>\n",
              "      <td>0.143377</td>\n",
              "      <td>-0.624913</td>\n",
              "      <td>0.156550</td>\n",
              "      <td>-0.485635</td>\n",
              "      <td>0.204360</td>\n",
              "      <td>...</td>\n",
              "      <td>0.951110</td>\n",
              "      <td>0.561934</td>\n",
              "      <td>-0.403880</td>\n",
              "      <td>0.483950</td>\n",
              "      <td>0.065134</td>\n",
              "      <td>0.429496</td>\n",
              "      <td>0.391307</td>\n",
              "      <td>0.392375</td>\n",
              "      <td>0.634365</td>\n",
              "      <td>M</td>\n",
              "    </tr>\n",
              "    <tr>\n",
              "      <th>4</th>\n",
              "      <td>0.0</td>\n",
              "      <td>0.0</td>\n",
              "      <td>-0.284665</td>\n",
              "      <td>0.085728</td>\n",
              "      <td>-0.453299</td>\n",
              "      <td>0.167248</td>\n",
              "      <td>-0.372762</td>\n",
              "      <td>0.317592</td>\n",
              "      <td>-0.241684</td>\n",
              "      <td>0.489102</td>\n",
              "      <td>...</td>\n",
              "      <td>0.934091</td>\n",
              "      <td>0.505951</td>\n",
              "      <td>-0.375049</td>\n",
              "      <td>0.536691</td>\n",
              "      <td>0.106561</td>\n",
              "      <td>0.464293</td>\n",
              "      <td>0.487019</td>\n",
              "      <td>0.407274</td>\n",
              "      <td>0.751768</td>\n",
              "      <td>M</td>\n",
              "    </tr>\n",
              "  </tbody>\n",
              "</table>\n",
              "<p>5 rows × 43 columns</p>\n",
              "</div>"
            ],
            "text/plain": [
              "    0x   0y        1x        1y        2x        2y        3x        3y  \\\n",
              "0  0.0  0.0 -0.263195  0.168084 -0.461619  0.238870 -0.545770  0.302678   \n",
              "1  0.0  0.0 -0.263099  0.028681 -0.421139  0.147102 -0.402727  0.327252   \n",
              "2  0.0  0.0 -0.317940 -0.047910 -0.503678 -0.068887 -0.492297  0.091870   \n",
              "3  0.0  0.0 -0.316733  0.100902 -0.559333  0.143377 -0.624913  0.156550   \n",
              "4  0.0  0.0 -0.284665  0.085728 -0.453299  0.167248 -0.372762  0.317592   \n",
              "\n",
              "         4x        4y  ...       16y       17x       17y       18x       18y  \\\n",
              "0 -0.478784  0.437474  ...  0.920620  0.421439 -0.428301  0.404070  0.039545   \n",
              "1 -0.330016  0.455576  ...  0.951374  0.363423  0.171764  0.366473  0.455060   \n",
              "2 -0.366191  0.284903  ...  0.946927  0.469347 -0.137859  0.490483  0.247974   \n",
              "3 -0.485635  0.204360  ...  0.951110  0.561934 -0.403880  0.483950  0.065134   \n",
              "4 -0.241684  0.489102  ...  0.934091  0.505951 -0.375049  0.536691  0.106561   \n",
              "\n",
              "        19x       19y       20x       20y  label  \n",
              "0  0.358000  0.382578  0.324619  0.636810      M  \n",
              "1  0.327095  0.647811  0.283990  0.788677      M  \n",
              "2  0.477984  0.517449  0.466153  0.725181      M  \n",
              "3  0.429496  0.391307  0.392375  0.634365      M  \n",
              "4  0.464293  0.487019  0.407274  0.751768      M  \n",
              "\n",
              "[5 rows x 43 columns]"
            ]
          },
          "execution_count": 9,
          "metadata": {},
          "output_type": "execute_result"
        }
      ],
      "source": [
        "df.head()"
      ]
    },
    {
      "cell_type": "code",
      "execution_count": null,
      "metadata": {
        "id": "FG5GAANFyxGm",
        "outputId": "d04f66f5-d852-4542-b724-99651c5ff0b8"
      },
      "outputs": [
        {
          "data": {
            "text/plain": [
              "F        5970\n",
              "L        5970\n",
              "K        5958\n",
              "G        5955\n",
              "J        5953\n",
              "D        5951\n",
              "H        5929\n",
              "B        5929\n",
              "A        5915\n",
              "Z        5903\n",
              "C        5903\n",
              "R        5896\n",
              "E        5892\n",
              "X        5890\n",
              "I        5887\n",
              "P        5880\n",
              "S        5836\n",
              "V        5835\n",
              "W        5796\n",
              "O        5751\n",
              "Q        5741\n",
              "Y        5667\n",
              "T        5530\n",
              "Space    5191\n",
              "M        5172\n",
              "U        4371\n",
              "N        3674\n",
              "Name: label, dtype: int64"
            ]
          },
          "execution_count": 10,
          "metadata": {},
          "output_type": "execute_result"
        }
      ],
      "source": [
        "df.to_csv(CSV_PATH)\n",
        "df['label'].value_counts()"
      ]
    },
    {
      "cell_type": "code",
      "execution_count": null,
      "metadata": {
        "id": "did7FTudyxGm",
        "outputId": "c9614ebf-a9f7-45d3-d527-d883878c156a"
      },
      "outputs": [
        {
          "name": "stdout",
          "output_type": "stream",
          "text": [
            "[]\n"
          ]
        }
      ],
      "source": [
        "print(corrupted_files)"
      ]
    },
    {
      "cell_type": "code",
      "execution_count": null,
      "metadata": {
        "id": "fgH_ND2gyxGm"
      },
      "outputs": [],
      "source": []
    }
  ],
  "metadata": {
    "colab": {
      "provenance": []
    },
    "kernelspec": {
      "display_name": "base",
      "language": "python",
      "name": "python3"
    },
    "language_info": {
      "codemirror_mode": {
        "name": "ipython",
        "version": 3
      },
      "file_extension": ".py",
      "mimetype": "text/x-python",
      "name": "python",
      "nbconvert_exporter": "python",
      "pygments_lexer": "ipython3",
      "version": "3.10.9"
    },
    "orig_nbformat": 4,
    "vscode": {
      "interpreter": {
        "hash": "e54217f9e10c9c2ab2c5acb791143dc555f80e81eec2f2e8946a5b329595e68c"
      }
    }
  },
  "nbformat": 4,
  "nbformat_minor": 0
}
