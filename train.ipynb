{
  "cells": [
    {
      "cell_type": "code",
      "execution_count": 62,
      "metadata": {
        "id": "NUb4IwcQLVFr"
      },
      "outputs": [],
      "source": [
        "import pandas as pd\n",
        "from sklearn.model_selection import train_test_split\n",
        "from sklearn.preprocessing import MinMaxScaler\n",
        "from sklearn.preprocessing import LabelEncoder\n",
        "from sklearn.metrics import classification_report, confusion_matrix\n",
        "import numpy as np\n",
        "import seaborn as sns\n",
        "import tensorflow as tf\n",
        "from tensorflow.keras.models import Sequential\n",
        "from tensorflow.keras.layers import *\n",
        "from matplotlib import pyplot as plt"
      ]
    },
    {
      "cell_type": "code",
      "execution_count": 63,
      "metadata": {
        "id": "DOVaH0FeLZtd"
      },
      "outputs": [],
      "source": [
        "path = \"/content/drive/MyDrive/Colab Notebooks/dataset/last-mp-dataset.csv\"\n",
        "MODEL_PATH = \"/content/drive/MyDrive/Colab Notebooks/models/mp_last_large_map_final\""
      ]
    },
    {
      "cell_type": "code",
      "execution_count": 64,
      "metadata": {
        "colab": {
          "base_uri": "https://localhost:8080/"
        },
        "id": "tDNHOf--RxmX",
        "outputId": "d46f4160-c1ed-461a-e786-0e3c647a2348"
      },
      "outputs": [
        {
          "data": {
            "text/plain": [
              "F        5970\n",
              "L        5970\n",
              "K        5958\n",
              "G        5955\n",
              "J        5953\n",
              "D        5951\n",
              "H        5929\n",
              "B        5929\n",
              "A        5915\n",
              "Z        5903\n",
              "C        5903\n",
              "R        5896\n",
              "E        5892\n",
              "X        5890\n",
              "I        5887\n",
              "P        5880\n",
              "S        5836\n",
              "V        5835\n",
              "W        5796\n",
              "O        5751\n",
              "Q        5741\n",
              "Y        5667\n",
              "T        5530\n",
              "Space    5191\n",
              "M        5172\n",
              "U        4371\n",
              "N        3674\n",
              "Name: label, dtype: int64"
            ]
          },
          "execution_count": 64,
          "metadata": {},
          "output_type": "execute_result"
        }
      ],
      "source": [
        "df = pd.read_csv(path)\n",
        "df[\"label\"].value_counts()"
      ]
    },
    {
      "cell_type": "code",
      "execution_count": 65,
      "metadata": {
        "colab": {
          "base_uri": "https://localhost:8080/"
        },
        "id": "lSUDZXytrDpH",
        "outputId": "03eaf411-e28c-4972-8bb5-61730fa4e9b9"
      },
      "outputs": [
        {
          "data": {
            "text/plain": [
              "array(['M', 'X', 'Space', 'S', 'P', 'N', 'I', 'U', 'H', 'G', 'B', 'W',\n",
              "       'K', 'E', 'A', 'L', 'J', 'Q', 'C', 'R', 'O', 'D', 'T', 'V', 'F',\n",
              "       'Y', 'Z'], dtype=object)"
            ]
          },
          "execution_count": 65,
          "metadata": {},
          "output_type": "execute_result"
        }
      ],
      "source": [
        "df[\"label\"].unique()"
      ]
    },
    {
      "cell_type": "code",
      "execution_count": 66,
      "metadata": {
        "colab": {
          "base_uri": "https://localhost:8080/",
          "height": 317
        },
        "id": "g09zg4rE_bAW",
        "outputId": "d77c2900-3da8-4297-e150-3feaceab57ae"
      },
      "outputs": [
        {
          "data": {
            "text/html": [
              "\n",
              "  <div id=\"df-b4ef9d57-2640-4aea-9bc3-e1bfe408df6c\">\n",
              "    <div class=\"colab-df-container\">\n",
              "      <div>\n",
              "<style scoped>\n",
              "    .dataframe tbody tr th:only-of-type {\n",
              "        vertical-align: middle;\n",
              "    }\n",
              "\n",
              "    .dataframe tbody tr th {\n",
              "        vertical-align: top;\n",
              "    }\n",
              "\n",
              "    .dataframe thead th {\n",
              "        text-align: right;\n",
              "    }\n",
              "</style>\n",
              "<table border=\"1\" class=\"dataframe\">\n",
              "  <thead>\n",
              "    <tr style=\"text-align: right;\">\n",
              "      <th></th>\n",
              "      <th>Unnamed: 0</th>\n",
              "      <th>0x</th>\n",
              "      <th>0y</th>\n",
              "      <th>1x</th>\n",
              "      <th>1y</th>\n",
              "      <th>2x</th>\n",
              "      <th>2y</th>\n",
              "      <th>3x</th>\n",
              "      <th>3y</th>\n",
              "      <th>4x</th>\n",
              "      <th>...</th>\n",
              "      <th>16y</th>\n",
              "      <th>17x</th>\n",
              "      <th>17y</th>\n",
              "      <th>18x</th>\n",
              "      <th>18y</th>\n",
              "      <th>19x</th>\n",
              "      <th>19y</th>\n",
              "      <th>20x</th>\n",
              "      <th>20y</th>\n",
              "      <th>label</th>\n",
              "    </tr>\n",
              "  </thead>\n",
              "  <tbody>\n",
              "    <tr>\n",
              "      <th>0</th>\n",
              "      <td>0</td>\n",
              "      <td>0.0</td>\n",
              "      <td>0.0</td>\n",
              "      <td>-0.263195</td>\n",
              "      <td>0.168084</td>\n",
              "      <td>-0.461619</td>\n",
              "      <td>0.238870</td>\n",
              "      <td>-0.545770</td>\n",
              "      <td>0.302678</td>\n",
              "      <td>-0.478784</td>\n",
              "      <td>...</td>\n",
              "      <td>0.920620</td>\n",
              "      <td>0.421439</td>\n",
              "      <td>-0.428301</td>\n",
              "      <td>0.404070</td>\n",
              "      <td>0.039545</td>\n",
              "      <td>0.358000</td>\n",
              "      <td>0.382578</td>\n",
              "      <td>0.324619</td>\n",
              "      <td>0.636810</td>\n",
              "      <td>M</td>\n",
              "    </tr>\n",
              "    <tr>\n",
              "      <th>1</th>\n",
              "      <td>1</td>\n",
              "      <td>0.0</td>\n",
              "      <td>0.0</td>\n",
              "      <td>-0.263099</td>\n",
              "      <td>0.028681</td>\n",
              "      <td>-0.421139</td>\n",
              "      <td>0.147102</td>\n",
              "      <td>-0.402727</td>\n",
              "      <td>0.327252</td>\n",
              "      <td>-0.330016</td>\n",
              "      <td>...</td>\n",
              "      <td>0.951374</td>\n",
              "      <td>0.363423</td>\n",
              "      <td>0.171764</td>\n",
              "      <td>0.366473</td>\n",
              "      <td>0.455060</td>\n",
              "      <td>0.327095</td>\n",
              "      <td>0.647811</td>\n",
              "      <td>0.283990</td>\n",
              "      <td>0.788677</td>\n",
              "      <td>M</td>\n",
              "    </tr>\n",
              "    <tr>\n",
              "      <th>2</th>\n",
              "      <td>2</td>\n",
              "      <td>0.0</td>\n",
              "      <td>0.0</td>\n",
              "      <td>-0.317940</td>\n",
              "      <td>-0.047910</td>\n",
              "      <td>-0.503678</td>\n",
              "      <td>-0.068887</td>\n",
              "      <td>-0.492297</td>\n",
              "      <td>0.091870</td>\n",
              "      <td>-0.366191</td>\n",
              "      <td>...</td>\n",
              "      <td>0.946927</td>\n",
              "      <td>0.469347</td>\n",
              "      <td>-0.137859</td>\n",
              "      <td>0.490483</td>\n",
              "      <td>0.247974</td>\n",
              "      <td>0.477984</td>\n",
              "      <td>0.517449</td>\n",
              "      <td>0.466153</td>\n",
              "      <td>0.725181</td>\n",
              "      <td>M</td>\n",
              "    </tr>\n",
              "    <tr>\n",
              "      <th>3</th>\n",
              "      <td>3</td>\n",
              "      <td>0.0</td>\n",
              "      <td>0.0</td>\n",
              "      <td>-0.316733</td>\n",
              "      <td>0.100902</td>\n",
              "      <td>-0.559333</td>\n",
              "      <td>0.143377</td>\n",
              "      <td>-0.624913</td>\n",
              "      <td>0.156550</td>\n",
              "      <td>-0.485635</td>\n",
              "      <td>...</td>\n",
              "      <td>0.951110</td>\n",
              "      <td>0.561934</td>\n",
              "      <td>-0.403880</td>\n",
              "      <td>0.483950</td>\n",
              "      <td>0.065134</td>\n",
              "      <td>0.429496</td>\n",
              "      <td>0.391307</td>\n",
              "      <td>0.392375</td>\n",
              "      <td>0.634365</td>\n",
              "      <td>M</td>\n",
              "    </tr>\n",
              "    <tr>\n",
              "      <th>4</th>\n",
              "      <td>4</td>\n",
              "      <td>0.0</td>\n",
              "      <td>0.0</td>\n",
              "      <td>-0.284665</td>\n",
              "      <td>0.085728</td>\n",
              "      <td>-0.453299</td>\n",
              "      <td>0.167248</td>\n",
              "      <td>-0.372762</td>\n",
              "      <td>0.317592</td>\n",
              "      <td>-0.241684</td>\n",
              "      <td>...</td>\n",
              "      <td>0.934091</td>\n",
              "      <td>0.505951</td>\n",
              "      <td>-0.375049</td>\n",
              "      <td>0.536691</td>\n",
              "      <td>0.106561</td>\n",
              "      <td>0.464293</td>\n",
              "      <td>0.487019</td>\n",
              "      <td>0.407274</td>\n",
              "      <td>0.751768</td>\n",
              "      <td>M</td>\n",
              "    </tr>\n",
              "  </tbody>\n",
              "</table>\n",
              "<p>5 rows × 44 columns</p>\n",
              "</div>\n",
              "      <button class=\"colab-df-convert\" onclick=\"convertToInteractive('df-b4ef9d57-2640-4aea-9bc3-e1bfe408df6c')\"\n",
              "              title=\"Convert this dataframe to an interactive table.\"\n",
              "              style=\"display:none;\">\n",
              "        \n",
              "  <svg xmlns=\"http://www.w3.org/2000/svg\" height=\"24px\"viewBox=\"0 0 24 24\"\n",
              "       width=\"24px\">\n",
              "    <path d=\"M0 0h24v24H0V0z\" fill=\"none\"/>\n",
              "    <path d=\"M18.56 5.44l.94 2.06.94-2.06 2.06-.94-2.06-.94-.94-2.06-.94 2.06-2.06.94zm-11 1L8.5 8.5l.94-2.06 2.06-.94-2.06-.94L8.5 2.5l-.94 2.06-2.06.94zm10 10l.94 2.06.94-2.06 2.06-.94-2.06-.94-.94-2.06-.94 2.06-2.06.94z\"/><path d=\"M17.41 7.96l-1.37-1.37c-.4-.4-.92-.59-1.43-.59-.52 0-1.04.2-1.43.59L10.3 9.45l-7.72 7.72c-.78.78-.78 2.05 0 2.83L4 21.41c.39.39.9.59 1.41.59.51 0 1.02-.2 1.41-.59l7.78-7.78 2.81-2.81c.8-.78.8-2.07 0-2.86zM5.41 20L4 18.59l7.72-7.72 1.47 1.35L5.41 20z\"/>\n",
              "  </svg>\n",
              "      </button>\n",
              "      \n",
              "  <style>\n",
              "    .colab-df-container {\n",
              "      display:flex;\n",
              "      flex-wrap:wrap;\n",
              "      gap: 12px;\n",
              "    }\n",
              "\n",
              "    .colab-df-convert {\n",
              "      background-color: #E8F0FE;\n",
              "      border: none;\n",
              "      border-radius: 50%;\n",
              "      cursor: pointer;\n",
              "      display: none;\n",
              "      fill: #1967D2;\n",
              "      height: 32px;\n",
              "      padding: 0 0 0 0;\n",
              "      width: 32px;\n",
              "    }\n",
              "\n",
              "    .colab-df-convert:hover {\n",
              "      background-color: #E2EBFA;\n",
              "      box-shadow: 0px 1px 2px rgba(60, 64, 67, 0.3), 0px 1px 3px 1px rgba(60, 64, 67, 0.15);\n",
              "      fill: #174EA6;\n",
              "    }\n",
              "\n",
              "    [theme=dark] .colab-df-convert {\n",
              "      background-color: #3B4455;\n",
              "      fill: #D2E3FC;\n",
              "    }\n",
              "\n",
              "    [theme=dark] .colab-df-convert:hover {\n",
              "      background-color: #434B5C;\n",
              "      box-shadow: 0px 1px 3px 1px rgba(0, 0, 0, 0.15);\n",
              "      filter: drop-shadow(0px 1px 2px rgba(0, 0, 0, 0.3));\n",
              "      fill: #FFFFFF;\n",
              "    }\n",
              "  </style>\n",
              "\n",
              "      <script>\n",
              "        const buttonEl =\n",
              "          document.querySelector('#df-b4ef9d57-2640-4aea-9bc3-e1bfe408df6c button.colab-df-convert');\n",
              "        buttonEl.style.display =\n",
              "          google.colab.kernel.accessAllowed ? 'block' : 'none';\n",
              "\n",
              "        async function convertToInteractive(key) {\n",
              "          const element = document.querySelector('#df-b4ef9d57-2640-4aea-9bc3-e1bfe408df6c');\n",
              "          const dataTable =\n",
              "            await google.colab.kernel.invokeFunction('convertToInteractive',\n",
              "                                                     [key], {});\n",
              "          if (!dataTable) return;\n",
              "\n",
              "          const docLinkHtml = 'Like what you see? Visit the ' +\n",
              "            '<a target=\"_blank\" href=https://colab.research.google.com/notebooks/data_table.ipynb>data table notebook</a>'\n",
              "            + ' to learn more about interactive tables.';\n",
              "          element.innerHTML = '';\n",
              "          dataTable['output_type'] = 'display_data';\n",
              "          await google.colab.output.renderOutput(dataTable, element);\n",
              "          const docLink = document.createElement('div');\n",
              "          docLink.innerHTML = docLinkHtml;\n",
              "          element.appendChild(docLink);\n",
              "        }\n",
              "      </script>\n",
              "    </div>\n",
              "  </div>\n",
              "  "
            ],
            "text/plain": [
              "   Unnamed: 0   0x   0y        1x        1y        2x        2y        3x  \\\n",
              "0           0  0.0  0.0 -0.263195  0.168084 -0.461619  0.238870 -0.545770   \n",
              "1           1  0.0  0.0 -0.263099  0.028681 -0.421139  0.147102 -0.402727   \n",
              "2           2  0.0  0.0 -0.317940 -0.047910 -0.503678 -0.068887 -0.492297   \n",
              "3           3  0.0  0.0 -0.316733  0.100902 -0.559333  0.143377 -0.624913   \n",
              "4           4  0.0  0.0 -0.284665  0.085728 -0.453299  0.167248 -0.372762   \n",
              "\n",
              "         3y        4x  ...       16y       17x       17y       18x       18y  \\\n",
              "0  0.302678 -0.478784  ...  0.920620  0.421439 -0.428301  0.404070  0.039545   \n",
              "1  0.327252 -0.330016  ...  0.951374  0.363423  0.171764  0.366473  0.455060   \n",
              "2  0.091870 -0.366191  ...  0.946927  0.469347 -0.137859  0.490483  0.247974   \n",
              "3  0.156550 -0.485635  ...  0.951110  0.561934 -0.403880  0.483950  0.065134   \n",
              "4  0.317592 -0.241684  ...  0.934091  0.505951 -0.375049  0.536691  0.106561   \n",
              "\n",
              "        19x       19y       20x       20y  label  \n",
              "0  0.358000  0.382578  0.324619  0.636810      M  \n",
              "1  0.327095  0.647811  0.283990  0.788677      M  \n",
              "2  0.477984  0.517449  0.466153  0.725181      M  \n",
              "3  0.429496  0.391307  0.392375  0.634365      M  \n",
              "4  0.464293  0.487019  0.407274  0.751768      M  \n",
              "\n",
              "[5 rows x 44 columns]"
            ]
          },
          "execution_count": 66,
          "metadata": {},
          "output_type": "execute_result"
        }
      ],
      "source": [
        "df.head()"
      ]
    },
    {
      "cell_type": "code",
      "execution_count": 67,
      "metadata": {
        "id": "R5j5LJ0oLqGM"
      },
      "outputs": [],
      "source": [
        "x_data = df[[ '0x', '0y', '1x', '1y', '2x', '2y', '3x', '3y', \n",
        "    '4x', '4y', '5x', '5y', '6x', '6y', '7x', '7y', \n",
        "    '8x', '8y', '9x', '9y', '10x', '10y', '11x', '11y', \n",
        "    '12x', '12y', '13x', '13y', '14x', '14y', '15x', \n",
        "    '15y', '16x', '16y', '17x', '17y', '18x', '18y', \n",
        "    '19x', '19y', '20x', '20y']].values\n",
        "\n",
        "y_data = df[\"label\"].values"
      ]
    },
    {
      "cell_type": "code",
      "execution_count": 68,
      "metadata": {
        "id": "op0W4s6eLuMT"
      },
      "outputs": [],
      "source": [
        "# scalar = MinMaxScaler()\n",
        "# x_data = scalar.fit_transform(x_data)\n",
        "\n",
        "encoder = LabelEncoder()\n",
        "y_data = encoder.fit_transform(y_data)"
      ]
    },
    {
      "cell_type": "code",
      "execution_count": 69,
      "metadata": {
        "colab": {
          "base_uri": "https://localhost:8080/"
        },
        "id": "itfP6x0a3INZ",
        "outputId": "4e4a8f3a-6566-4baa-b46e-a79dddf93bcd"
      },
      "outputs": [
        {
          "data": {
            "text/plain": [
              "{'A': 0,\n",
              " 'B': 1,\n",
              " 'C': 2,\n",
              " 'D': 3,\n",
              " 'E': 4,\n",
              " 'F': 5,\n",
              " 'G': 6,\n",
              " 'H': 7,\n",
              " 'I': 8,\n",
              " 'J': 9,\n",
              " 'K': 10,\n",
              " 'L': 11,\n",
              " 'M': 12,\n",
              " 'N': 13,\n",
              " 'O': 14,\n",
              " 'P': 15,\n",
              " 'Q': 16,\n",
              " 'R': 17,\n",
              " 'S': 18,\n",
              " 'Space': 19,\n",
              " 'T': 20,\n",
              " 'U': 21,\n",
              " 'V': 22,\n",
              " 'W': 23,\n",
              " 'X': 24,\n",
              " 'Y': 25,\n",
              " 'Z': 26}"
            ]
          },
          "execution_count": 69,
          "metadata": {},
          "output_type": "execute_result"
        }
      ],
      "source": [
        "encoding_maps = dict(zip(encoder.classes_,range(len(encoder.classes_))))\n",
        "encoding_maps"
      ]
    },
    {
      "cell_type": "code",
      "execution_count": 70,
      "metadata": {
        "id": "fmRA3uBdLulM"
      },
      "outputs": [],
      "source": [
        "x_train, x_test, y_train, y_test = train_test_split(x_data, y_data, test_size=.3, shuffle=True)"
      ]
    },
    {
      "cell_type": "code",
      "execution_count": 71,
      "metadata": {
        "id": "Q6nEf8nqLwU6"
      },
      "outputs": [],
      "source": [
        "layers = [\n",
        "    Dense(256, input_shape=(42,)),\n",
        "    Dropout(.2),\n",
        "    Dense(128, activation='relu'),\n",
        "    Dropout(.2),\n",
        "    Dense(64, activation='relu'),\n",
        "    Dropout(.2),\n",
        "    Dense(32, activation = 'relu'),\n",
        "    Dense(27, activation = 'softmax')\n",
        "]\n",
        "\n",
        "model = Sequential(layers)"
      ]
    },
    {
      "cell_type": "code",
      "execution_count": 72,
      "metadata": {
        "id": "snoXlxnPLxnp"
      },
      "outputs": [],
      "source": [
        "model.compile(optimizer='adam',\n",
        "              loss='sparse_categorical_crossentropy',\n",
        "              metrics=['accuracy'])"
      ]
    },
    {
      "cell_type": "code",
      "execution_count": 73,
      "metadata": {
        "colab": {
          "base_uri": "https://localhost:8080/"
        },
        "id": "S56n5RMQLzBL",
        "outputId": "f88813af-5702-4127-d4b6-ebb9cf0046fc"
      },
      "outputs": [
        {
          "name": "stdout",
          "output_type": "stream",
          "text": [
            "Epoch 1/10\n",
            "1678/1678 [==============================] - 13s 7ms/step - loss: 0.4070 - accuracy: 0.8750 - val_loss: 0.0575 - val_accuracy: 0.9851\n",
            "Epoch 2/10\n",
            "1678/1678 [==============================] - 9s 5ms/step - loss: 0.0847 - accuracy: 0.9767 - val_loss: 0.0534 - val_accuracy: 0.9848\n",
            "Epoch 3/10\n",
            "1678/1678 [==============================] - 10s 6ms/step - loss: 0.0650 - accuracy: 0.9818 - val_loss: 0.0358 - val_accuracy: 0.9903\n",
            "Epoch 4/10\n",
            "1678/1678 [==============================] - 9s 6ms/step - loss: 0.0577 - accuracy: 0.9837 - val_loss: 0.0344 - val_accuracy: 0.9903\n",
            "Epoch 5/10\n",
            "1678/1678 [==============================] - 9s 5ms/step - loss: 0.0514 - accuracy: 0.9856 - val_loss: 0.0297 - val_accuracy: 0.9921\n",
            "Epoch 6/10\n",
            "1678/1678 [==============================] - 10s 6ms/step - loss: 0.0448 - accuracy: 0.9871 - val_loss: 0.0334 - val_accuracy: 0.9907\n",
            "Epoch 7/10\n",
            "1678/1678 [==============================] - 9s 5ms/step - loss: 0.0433 - accuracy: 0.9879 - val_loss: 0.0256 - val_accuracy: 0.9928\n",
            "Epoch 8/10\n",
            "1678/1678 [==============================] - 13s 8ms/step - loss: 0.0413 - accuracy: 0.9879 - val_loss: 0.0217 - val_accuracy: 0.9936\n",
            "Epoch 9/10\n",
            "1678/1678 [==============================] - 10s 6ms/step - loss: 0.0374 - accuracy: 0.9890 - val_loss: 0.0259 - val_accuracy: 0.9926\n",
            "Epoch 10/10\n",
            "1678/1678 [==============================] - 12s 7ms/step - loss: 0.0373 - accuracy: 0.9889 - val_loss: 0.0226 - val_accuracy: 0.9933\n"
          ]
        }
      ],
      "source": [
        "history = model.fit(x_train, y_train, epochs=10, validation_split=0.5).history"
      ]
    },
    {
      "cell_type": "code",
      "execution_count": 74,
      "metadata": {
        "colab": {
          "base_uri": "https://localhost:8080/"
        },
        "id": "VGWdIMGJL7gL",
        "outputId": "eaa91615-b7c3-429d-f62d-18a4ae0eb456"
      },
      "outputs": [
        {
          "name": "stderr",
          "output_type": "stream",
          "text": [
            "WARNING:absl:Found untraced functions such as _update_step_xla while saving (showing 1 of 1). These functions will not be directly callable after loading.\n"
          ]
        }
      ],
      "source": [
        "model.save(MODEL_PATH)"
      ]
    },
    {
      "cell_type": "code",
      "execution_count": 75,
      "metadata": {
        "colab": {
          "base_uri": "https://localhost:8080/"
        },
        "id": "aHIwDj8-nLEb",
        "outputId": "c4939547-fe01-41f5-9013-ac1baf98529e"
      },
      "outputs": [
        {
          "data": {
            "text/plain": [
              "dict_keys(['loss', 'accuracy', 'val_loss', 'val_accuracy'])"
            ]
          },
          "execution_count": 75,
          "metadata": {},
          "output_type": "execute_result"
        }
      ],
      "source": [
        "history.keys()"
      ]
    },
    {
      "cell_type": "code",
      "execution_count": 77,
      "metadata": {
        "id": "OwQEunavtEPe"
      },
      "outputs": [],
      "source": [
        "x = [1,2,3,4,5,6,7,8,9,10]"
      ]
    },
    {
      "cell_type": "code",
      "execution_count": 78,
      "metadata": {
        "colab": {
          "base_uri": "https://localhost:8080/",
          "height": 494
        },
        "id": "mbomzX7TozWY",
        "outputId": "2caf7d0e-ef38-492b-b068-0c4fa791cdf1"
      },
      "outputs": [
        {
          "data": {
            "text/plain": [
              "<matplotlib.legend.Legend at 0x7fa56bb1e020>"
            ]
          },
          "execution_count": 78,
          "metadata": {},
          "output_type": "execute_result"
        },
        {
          "data": {
            "image/png": "[encoded data removed]",
            "text/plain": [
              "<Figure size 640x480 with 2 Axes>"
            ]
          },
          "metadata": {},
          "output_type": "display_data"
        }
      ],
      "source": [
        "plt.subplot(211)\n",
        "plt.title(\"accuracy\")\n",
        "plt.plot(x, history['accuracy'], label=\"train_accuracy\",)\n",
        "plt.plot(x, history['val_accuracy'], label=\"validation_accuracy\")\n",
        "plt.xticks(x)\n",
        "plt.xlabel('epoch')\n",
        "plt.ylabel('accuracy')\n",
        "plt.legend()\n",
        "\n",
        "plt.tight_layout(pad=3)\n",
        "\n",
        "plt.subplot(212)\n",
        "plt.title(\"loss\")\n",
        "plt.plot(x, history['loss'], label=\"train_loss\")\n",
        "plt.plot(x, history['val_loss'], label=\"validation_loss\")\n",
        "plt.xticks(x)\n",
        "plt.xlabel('epoch')\n",
        "plt.ylabel('accuracy')\n",
        "plt.legend()"
      ]
    },
    {
      "cell_type": "code",
      "execution_count": 79,
      "metadata": {
        "colab": {
          "base_uri": "https://localhost:8080/"
        },
        "id": "qAc4nvyUL0xK",
        "outputId": "38d57430-5bb9-4adc-c684-760ab71b0f4d"
      },
      "outputs": [
        {
          "name": "stdout",
          "output_type": "stream",
          "text": [
            "1438/1438 [==============================] - 3s 2ms/step - loss: 0.0235 - accuracy: 0.9934\n"
          ]
        },
        {
          "data": {
            "text/plain": [
              "[0.023456929251551628, 0.9934136271476746]"
            ]
          },
          "execution_count": 79,
          "metadata": {},
          "output_type": "execute_result"
        }
      ],
      "source": [
        "model.evaluate(x_test, y_test)"
      ]
    },
    {
      "cell_type": "code",
      "execution_count": 80,
      "metadata": {
        "colab": {
          "base_uri": "https://localhost:8080/"
        },
        "id": "8m-3qmwnAqi9",
        "outputId": "460180bf-54ab-4dd6-e1ed-f4fd06d3a911"
      },
      "outputs": [
        {
          "name": "stdout",
          "output_type": "stream",
          "text": [
            "1438/1438 [==============================] - 2s 2ms/step\n"
          ]
        }
      ],
      "source": [
        "y_pred = np.array([ np.argmax(i) for i in model.predict(x_test) ])"
      ]
    },
    {
      "cell_type": "code",
      "execution_count": 81,
      "metadata": {
        "colab": {
          "base_uri": "https://localhost:8080/"
        },
        "id": "7uIEMr41_bcR",
        "outputId": "4f2006db-8e3c-4343-c84e-16559b36cf77"
      },
      "outputs": [
        {
          "name": "stdout",
          "output_type": "stream",
          "text": [
            "              precision    recall  f1-score   support\n",
            "\n",
            "           A       0.99      0.99      0.99      1744\n",
            "           B       1.00      1.00      1.00      1844\n",
            "           C       1.00      1.00      1.00      1808\n",
            "           D       1.00      1.00      1.00      1742\n",
            "           E       0.99      1.00      1.00      1768\n",
            "           F       1.00      1.00      1.00      1771\n",
            "           G       1.00      1.00      1.00      1766\n",
            "           H       1.00      1.00      1.00      1801\n",
            "           I       0.99      0.98      0.99      1723\n",
            "           J       0.99      1.00      1.00      1759\n",
            "           K       1.00      1.00      1.00      1770\n",
            "           L       1.00      1.00      1.00      1802\n",
            "           M       0.95      1.00      0.97      1552\n",
            "           N       0.99      0.92      0.96      1068\n",
            "           O       1.00      0.99      1.00      1728\n",
            "           P       1.00      1.00      1.00      1766\n",
            "           Q       1.00      1.00      1.00      1723\n",
            "           R       1.00      1.00      1.00      1808\n",
            "           S       0.97      0.99      0.98      1770\n",
            "       Space       0.99      1.00      1.00      1536\n",
            "           T       0.98      0.99      0.99      1652\n",
            "           U       0.99      0.99      0.99      1335\n",
            "           V       1.00      1.00      1.00      1738\n",
            "           W       1.00      1.00      1.00      1700\n",
            "           X       1.00      0.99      0.99      1761\n",
            "           Y       1.00      1.00      1.00      1755\n",
            "           Z       1.00      1.00      1.00      1814\n",
            "\n",
            "    accuracy                           0.99     46004\n",
            "   macro avg       0.99      0.99      0.99     46004\n",
            "weighted avg       0.99      0.99      0.99     46004\n",
            "\n"
          ]
        }
      ],
      "source": [
        "print(classification_report(y_test, y_pred, target_names=encoding_maps))"
      ]
    },
    {
      "cell_type": "code",
      "execution_count": 82,
      "metadata": {
        "id": "vRS7pT-YEBx5"
      },
      "outputs": [],
      "source": [
        "from matplotlib import pyplot as plt"
      ]
    },
    {
      "cell_type": "code",
      "execution_count": 83,
      "metadata": {
        "colab": {
          "base_uri": "https://localhost:8080/",
          "height": 868
        },
        "id": "ocBfFyN6_qkV",
        "outputId": "8800ecb2-ca7c-478f-a6eb-dcd4f79cfd55"
      },
      "outputs": [
        {
          "data": {
            "text/plain": [
              "Text(158.22222222222223, 0.5, 'True')"
            ]
          },
          "execution_count": 83,
          "metadata": {},
          "output_type": "execute_result"
        },
        {
          "data": {
            "image/png": "[encoded data removed]",
            "text/plain": [
              "<Figure size 1500x1000 with 2 Axes>"
            ]
          },
          "metadata": {},
          "output_type": "display_data"
        }
      ],
      "source": [
        "cf_matrix = confusion_matrix(y_test, y_pred)\n",
        "plt.figure(figsize=(15, 10))\n",
        "sns.heatmap(cf_matrix, linewidths=1, annot=True, fmt='g', xticklabels=list(encoding_maps.keys()), yticklabels=list(encoding_maps.keys()))\n",
        "plt.xlabel('Predicted')\n",
        "plt.ylabel('True')"
      ]
    },
    {
      "attachments": {},
      "cell_type": "markdown",
      "metadata": {
        "id": "h5zVUmSInttF"
      },
      "source": [
        "<h1>Cross Validation</h1>"
      ]
    },
    {
      "cell_type": "code",
      "execution_count": 84,
      "metadata": {
        "id": "e9ye7RhFn6tY"
      },
      "outputs": [],
      "source": [
        "from sklearn.model_selection import KFold"
      ]
    },
    {
      "cell_type": "code",
      "execution_count": 85,
      "metadata": {
        "id": "6zmEQ9ANn4Xn"
      },
      "outputs": [],
      "source": [
        "def evaluate(model, x_train, x_test, y_train, y_test):\n",
        "    model.compile(optimizer='adam',\n",
        "              loss='sparse_categorical_crossentropy',\n",
        "              metrics=['accuracy'])\n",
        "    history = model.fit(x_train, y_train, epochs=10, verbose=False).history\n",
        "    err, acc = model.evaluate(x_test, y_test)\n",
        "    print(f\"accuracy: {acc}\")\n",
        "    print()\n"
      ]
    },
    {
      "cell_type": "code",
      "execution_count": 86,
      "metadata": {
        "colab": {
          "base_uri": "https://localhost:8080/"
        },
        "id": "YgnIiw5inzXU",
        "outputId": "fb34d8cc-0c85-4df8-82e1-c00e8b7b7014"
      },
      "outputs": [
        {
          "data": {
            "text/plain": [
              "KFold(n_splits=10, random_state=None, shuffle=True)"
            ]
          },
          "execution_count": 86,
          "metadata": {},
          "output_type": "execute_result"
        }
      ],
      "source": [
        "kf = KFold(n_splits=10, shuffle=True)\n",
        "kf"
      ]
    },
    {
      "cell_type": "code",
      "execution_count": 87,
      "metadata": {
        "colab": {
          "base_uri": "https://localhost:8080/"
        },
        "id": "mveHDrY8C1Ny",
        "outputId": "f74d3927-bc76-4086-8699-b1f09679ae3b"
      },
      "outputs": [
        {
          "name": "stdout",
          "output_type": "stream",
          "text": [
            "480/480 [==============================] - 2s 3ms/step - loss: 0.0119 - accuracy: 0.9960\n",
            "accuracy: 0.9959569573402405\n",
            "\n",
            "480/480 [==============================] - 1s 2ms/step - loss: 0.0148 - accuracy: 0.9955\n",
            "accuracy: 0.9955005049705505\n",
            "\n",
            "480/480 [==============================] - 1s 2ms/step - loss: 0.0146 - accuracy: 0.9956\n",
            "accuracy: 0.9955657124519348\n",
            "\n",
            "480/480 [==============================] - 2s 3ms/step - loss: 0.0129 - accuracy: 0.9961\n",
            "accuracy: 0.996087372303009\n",
            "\n",
            "480/480 [==============================] - 1s 2ms/step - loss: 0.0154 - accuracy: 0.9953\n",
            "accuracy: 0.9953048825263977\n",
            "\n",
            "480/480 [==============================] - 1s 2ms/step - loss: 0.0130 - accuracy: 0.9957\n",
            "accuracy: 0.9956958293914795\n",
            "\n",
            "480/480 [==============================] - 1s 2ms/step - loss: 0.0092 - accuracy: 0.9967\n",
            "accuracy: 0.9967392683029175\n",
            "\n",
            "480/480 [==============================] - 1s 2ms/step - loss: 0.0130 - accuracy: 0.9962\n",
            "accuracy: 0.9962175488471985\n",
            "\n",
            "480/480 [==============================] - 1s 2ms/step - loss: 0.0109 - accuracy: 0.9967\n",
            "accuracy: 0.9966740608215332\n",
            "\n",
            "480/480 [==============================] - 1s 2ms/step - loss: 0.0136 - accuracy: 0.9959\n",
            "accuracy: 0.9958915114402771\n",
            "\n"
          ]
        }
      ],
      "source": [
        "for train_idx, test_idx in kf.split(x_data, y_data):\n",
        "    x_train, x_test = x_data[train_idx], x_data[test_idx]\n",
        "    y_train, y_test = y_data[train_idx], y_data[test_idx]\n",
        "    evaluate(Sequential(layers), x_train, x_test, y_train, y_test)\n"
      ]
    },
    {
      "cell_type": "code",
      "execution_count": 87,
      "metadata": {
        "id": "R6NuEPj_n75s"
      },
      "outputs": [],
      "source": []
    }
  ],
  "metadata": {
    "colab": {
      "provenance": []
    },
    "kernelspec": {
      "display_name": "Python 3",
      "name": "python3"
    },
    "language_info": {
      "name": "python"
    }
  },
  "nbformat": 4,
  "nbformat_minor": 0
}
